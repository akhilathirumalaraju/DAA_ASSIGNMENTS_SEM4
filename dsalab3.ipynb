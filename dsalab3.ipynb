{
 "cells": [
  {
   "cell_type": "code",
   "execution_count": 1,
   "id": "49a95e07",
   "metadata": {},
   "outputs": [
    {
     "name": "stdout",
     "output_type": "stream",
     "text": [
      "Enter comma-separated integers for the list: 12,3,4,5,6\n",
      "Enter the target sum: 7\n",
      "All possible pairs that add up to 7 :\n",
      "[3, 4]\n"
     ]
    }
   ],
   "source": [
    "def find_all_pairs_with_sum(nums, target):\n",
    "  seen = set()\n",
    "  all_pairs = []\n",
    "\n",
    "  for num in nums:\n",
    "    complement = target - num\n",
    "    if complement in seen:\n",
    "      all_pairs.append([complement, num])\n",
    "    seen.add(num)\n",
    "\n",
    "  return all_pairs\n",
    "\n",
    "# user input for list of integers\n",
    "num_str = input(\"Enter comma-separated integers for the list: \")\n",
    "nums = [int(num) for num in num_str.split(\",\")]\n",
    "\n",
    "# user input for target sum\n",
    "target = int(input(\"Enter the target sum: \"))\n",
    "\n",
    "all_pairs = find_all_pairs_with_sum(nums, target)\n",
    "\n",
    "if all_pairs:\n",
    "  print(\"All possible pairs that add up to\", target, \":\")\n",
    "  for pair in all_pairs:\n",
    "    print(pair)\n",
    "else:\n",
    "  print(\"No pairs found with that target sum\")\n",
    "\n"
   ]
  },
  {
   "cell_type": "code",
   "execution_count": 2,
   "id": "ad48478f",
   "metadata": {},
   "outputs": [
    {
     "name": "stdout",
     "output_type": "stream",
     "text": [
      "Enter comma-separated integers for the list: 12,4,5,6,7\n",
      "Two largest numbers: 12 7\n",
      "Product of the two largest numbers: 84\n"
     ]
    }
   ],
   "source": [
    "def find_two_largest_and_product(nums):\n",
    "\n",
    "  if not nums:  # if the list is empty\n",
    "    return None  # we Return None\n",
    "\n",
    "  # Initializing the first element for comparison\n",
    "  largest1 = nums[0]\n",
    "\n",
    "  for num in nums[1:]:\n",
    "    # Updating largest1 if the current number is larger\n",
    "    if num > largest1:\n",
    "      largest1 = num\n",
    "\n",
    "  # Find the second largest number \n",
    "  largest2 = max(num for num in nums if num != largest1)\n",
    "\n",
    "  return largest1, largest2, largest1 * largest2\n",
    "\n",
    "# user input\n",
    "num_str = input(\"Enter comma-separated integers for the list: \")\n",
    "nums = [int(num) for num in num_str.split(\",\")]\n",
    "\n",
    "largest1, largest2, product = find_two_largest_and_product(nums)\n",
    "\n",
    "if largest1 is not None:  \n",
    "  print(\"Two largest numbers:\", largest1, largest2)\n",
    "  print(\"Product of the two largest numbers:\", product)\n",
    "else:\n",
    "  print(\"The list is empty.\")\n"
   ]
  },
  {
   "cell_type": "code",
   "execution_count": 5,
   "id": "6c895509",
   "metadata": {},
   "outputs": [
    {
     "name": "stdout",
     "output_type": "stream",
     "text": [
      "Enter the elements of the array separated by space: 1 4 3 2 5\n",
      "Sorted array with swapped elements: [1, 2, 3, 4, 5]\n"
     ]
    }
   ],
   "source": [
    "def find_swapped_elements(arr):\n",
    "    first_wrong = None\n",
    "    second_wrong = None\n",
    "    \n",
    "    for i in range(len(arr) - 1):\n",
    "        if arr[i] > arr[i + 1]:\n",
    "            if first_wrong is None:\n",
    "                first_wrong = i\n",
    "            else:\n",
    "                second_wrong = i + 1\n",
    "                break\n",
    "    \n",
    "    return first_wrong, second_wrong\n",
    "\n",
    "def sort_array_with_swapped_elements(arr):\n",
    "    first_wrong, second_wrong = find_swapped_elements(arr)\n",
    "    \n",
    "    arr[first_wrong], arr[second_wrong] = arr[second_wrong], arr[first_wrong]\n",
    "    \n",
    "    return sorted(arr)\n",
    "\n",
    "# Take input from the user\n",
    "arr = list(map(int, input(\"Enter the elements of the array separated by space: \").split()))\n",
    "\n",
    "sorted_arr = sort_array_with_swapped_elements(arr)\n",
    "print(\"Sorted array with swapped elements:\", sorted_arr)\n"
   ]
  },
  {
   "cell_type": "code",
   "execution_count": 6,
   "id": "e26b4069",
   "metadata": {},
   "outputs": [
    {
     "name": "stdout",
     "output_type": "stream",
     "text": [
      "Enter comma-separated integers (0s and 1s) for the list: 0,1,0,1,0,1\n",
      "Segregated list: [0, 0, 0, 1, 1, 1]\n"
     ]
    }
   ],
   "source": [
    "def segregate_0s_and_1s(nums):\n",
    "\n",
    "  # Two pointer approach\n",
    "  left = 0\n",
    "  right = len(nums) - 1\n",
    "\n",
    "  while left < right:\n",
    "    # Find the first 1 from the left side\n",
    "    while left < right and nums[left] == 0:\n",
    "      left += 1\n",
    "\n",
    "    # Find the last 0 from the right side\n",
    "    while left < right and nums[right] == 1:\n",
    "      right -= 1\n",
    "\n",
    "    # Swap if left and right haven't crossed\n",
    "    if left < right:\n",
    "      nums[left], nums[right] = nums[right], nums[left]\n",
    "      left += 1\n",
    "      right -= 1\n",
    "\n",
    "  return nums\n",
    "\n",
    "def get_binary_list():\n",
    "  \n",
    "  while True:\n",
    "    num_str = input(\"Enter comma-separated integers (0s and 1s) for the list: \")\n",
    "    try:\n",
    "      nums = [int(num) for num in num_str.split(\",\")]\n",
    "      # Validate if all elements are 0 or 1\n",
    "      if all(num in (0, 1) for num in nums):\n",
    "        return nums\n",
    "      else:\n",
    "        print(\"Invalid input: Please enter only 0s and 1s.\")\n",
    "    except ValueError:\n",
    "      print(\"Invalid input: Please enter comma-separated integers.\")\n",
    "\n",
    "# Get user input and validate\n",
    "nums = get_binary_list()\n",
    "\n",
    "# Segregate 0s and 1s\n",
    "sorted_list = segregate_0s_and_1s(nums)\n",
    "\n",
    "print(\"Segregated list:\", sorted_list)\n"
   ]
  },
  {
   "cell_type": "code",
   "execution_count": 9,
   "id": "57926aa2",
   "metadata": {},
   "outputs": [
    {
     "name": "stdout",
     "output_type": "stream",
     "text": [
      "Enter comma-separated integers for the list: 12,4,3,5,6\n",
      "Inversion count: 5\n",
      "Inversion pairs: [(12, 4), (4, 3), (12, 3), (12, 5), (12, 6)]\n"
     ]
    }
   ],
   "source": [
    "def find_inversion_count_and_pairs(nums):\n",
    " \n",
    "\n",
    "  def merge_and_count(left, right):\n",
    "   \n",
    "    i, j, count = 0, 0, 0\n",
    "    merged = []\n",
    "    inversion_pairs = []\n",
    "\n",
    "    while i < len(left) and j < len(right):\n",
    "      if left[i] <= right[j]:\n",
    "        merged.append(left[i])\n",
    "        i += 1\n",
    "      else:\n",
    "        # Counting inversions and record pairs\n",
    "        count += len(left) - i\n",
    "        for k in range(i, len(left)):\n",
    "          inversion_pairs.append((left[k], right[j]))\n",
    "        merged.append(right[j])\n",
    "        j += 1\n",
    "\n",
    "    # Appending remaining elements \n",
    "    merged.extend(left[i:])\n",
    "    merged.extend(right[j:])\n",
    "\n",
    "    return merged, count, inversion_pairs\n",
    "\n",
    "  # Divide and Conquer approach using merge sort\n",
    "  def merge_sort_and_count(nums):\n",
    "    if len(nums) <= 1:\n",
    "      return nums, 0, []\n",
    "\n",
    "    mid = len(nums) // 2\n",
    "    left, left_count, left_pairs = merge_sort_and_count(nums[:mid])\n",
    "    right, right_count, right_pairs = merge_sort_and_count(nums[mid:])\n",
    "\n",
    "    merged, merge_count, merge_pairs = merge_and_count(left, right)\n",
    "    return merged, left_count + right_count + merge_count, left_pairs + right_pairs + merge_pairs\n",
    "\n",
    "\n",
    "  sorted_nums, inversion_count, inversion_pairs = merge_sort_and_count(nums)\n",
    "  return inversion_count, inversion_pairs\n",
    "\n",
    "#  user input \n",
    "num_str = input(\"Enter comma-separated integers for the list: \")\n",
    "nums = [int(num) for num in num_str.split(\",\")]\n",
    "\n",
    "inversion_count, inversion_pairs = find_inversion_count_and_pairs(nums)\n",
    "print(\"Inversion count:\", inversion_count)\n",
    "\n",
    "if inversion_pairs:\n",
    "  print(\"Inversion pairs:\", inversion_pairs)\n",
    "else:\n",
    "  print(\"No inversion pairs found.\")\n"
   ]
  },
  {
   "cell_type": "code",
   "execution_count": 10,
   "id": "bc6d2b17",
   "metadata": {},
   "outputs": [
    {
     "name": "stdout",
     "output_type": "stream",
     "text": [
      "Yes, 4 and 6 sum up to 10.\n"
     ]
    }
   ],
   "source": [
    "def two_sum_n_squared(arr, K):\n",
    "    n = len(arr)\n",
    "    for i in range(n):\n",
    "        for j in range(i+1, n):\n",
    "            if arr[i] + arr[j] == K:\n",
    "                return True, arr[i], arr[j]\n",
    "    return False, None, None\n",
    "\n",
    "# Example usage:\n",
    "arr = [8, 4, 1, 6]\n",
    "K = 10\n",
    "exists, num1, num2 = two_sum_n_squared(arr, K)\n",
    "if exists:\n",
    "    print(f\"Yes, {num1} and {num2} sum up to {K}.\")\n",
    "else:\n",
    "    print(\"No such pair exists.\")\n"
   ]
  },
  {
   "cell_type": "code",
   "execution_count": 11,
   "id": "bf8e519f",
   "metadata": {},
   "outputs": [
    {
     "name": "stdout",
     "output_type": "stream",
     "text": [
      "Yes, 4 and 6 sum up to 10.\n"
     ]
    }
   ],
   "source": [
    "def two_sum_n_log_n(arr, K):\n",
    "    arr.sort()\n",
    "    left = 0\n",
    "    right = len(arr) - 1\n",
    "    \n",
    "    while left < right:\n",
    "        current_sum = arr[left] + arr[right]\n",
    "        if current_sum == K:\n",
    "            return True, arr[left], arr[right]\n",
    "        elif current_sum < K:\n",
    "            left += 1\n",
    "        else:\n",
    "            right -= 1\n",
    "            \n",
    "    return False, None, None\n",
    "\n",
    "# Example usage:\n",
    "arr = [8, 4, 1, 6]\n",
    "K = 10\n",
    "exists, num1, num2 = two_sum_n_log_n(arr, K)\n",
    "if exists:\n",
    "    print(f\"Yes, {num1} and {num2} sum up to {K}.\")\n",
    "else:\n",
    "    print(\"No such pair exists.\")\n"
   ]
  },
  {
   "cell_type": "code",
   "execution_count": null,
   "id": "01732824",
   "metadata": {},
   "outputs": [],
   "source": []
  }
 ],
 "metadata": {
  "kernelspec": {
   "display_name": "Python 3 (ipykernel)",
   "language": "python",
   "name": "python3"
  },
  "language_info": {
   "codemirror_mode": {
    "name": "ipython",
    "version": 3
   },
   "file_extension": ".py",
   "mimetype": "text/x-python",
   "name": "python",
   "nbconvert_exporter": "python",
   "pygments_lexer": "ipython3",
   "version": "3.11.5"
  }
 },
 "nbformat": 4,
 "nbformat_minor": 5
}
