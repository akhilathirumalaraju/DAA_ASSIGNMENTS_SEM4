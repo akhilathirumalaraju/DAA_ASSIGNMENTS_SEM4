{
 "cells": [
  {
   "cell_type": "code",
   "execution_count": null,
   "metadata": {
    "id": "UxISQaOXwMn9"
   },
   "outputs": [],
   "source": [
    "1"
   ]
  },
  {
   "cell_type": "code",
   "execution_count": 1,
   "metadata": {
    "colab": {
     "base_uri": "https://localhost:8080/",
     "height": 472
    },
    "id": "XvpCwFHswrqS",
    "outputId": "b5ddd7cc-9463-43b8-ba6d-93a2eeefb53d"
   },
   "outputs": [
    {
     "data": {
      "image/png": "[encoded data removed]",
      "text/plain": [
       "<Figure size 640x480 with 1 Axes>"
      ]
     },
     "metadata": {},
     "output_type": "display_data"
    }
   ],
   "source": [
    "import random\n",
    "import time\n",
    "import matplotlib.pyplot as plt\n",
    "\n",
    "def bubble_sort(arr):\n",
    "    n = len(arr)\n",
    "    for i in range(n):\n",
    "        for j in range(0, n-i-1):\n",
    "            if arr[j] > arr[j+1]:\n",
    "                arr[j], arr[j+1] = arr[j+1], arr[j]\n",
    "\n",
    "def selection_sort(arr):\n",
    "    n = len(arr)\n",
    "    for i in range(n):\n",
    "        min_idx = i\n",
    "        for j in range(i+1, n):\n",
    "            if arr[j] < arr[min_idx]:\n",
    "                min_idx = j\n",
    "        arr[i], arr[min_idx] = arr[min_idx], arr[i]\n",
    "\n",
    "def partition(arr, low, high):\n",
    "    pivot = arr[high]\n",
    "    i = low - 1\n",
    "    for j in range(low, high):\n",
    "        if arr[j] < pivot:\n",
    "            i += 1\n",
    "            arr[i], arr[j] = arr[j], arr[i]\n",
    "    arr[i+1], arr[high] = arr[high], arr[i+1]\n",
    "    return i + 1\n",
    "\n",
    "def quick_sort(arr, low, high):\n",
    "    if low < high:\n",
    "        pi = partition(arr, low, high)\n",
    "        quick_sort(arr, low, pi - 1)\n",
    "        quick_sort(arr, pi + 1, high)\n",
    "\n",
    "# Generate 1000 random integers between 1 and 10000\n",
    "random_numbers = [random.randint(1, 10000) for _ in range(1000)]\n",
    "\n",
    "# Copy the random numbers for each sorting algorithm\n",
    "bubble_numbers = random_numbers.copy()\n",
    "selection_numbers = random_numbers.copy()\n",
    "quick_numbers = random_numbers.copy()\n",
    "\n",
    "# Measure time taken for Bubble Sort\n",
    "start_time = time.time()\n",
    "bubble_sort(bubble_numbers)\n",
    "bubble_time = time.time() - start_time\n",
    "\n",
    "# Measure time taken for Selection Sort\n",
    "start_time = time.time()\n",
    "selection_sort(selection_numbers)\n",
    "selection_time = time.time() - start_time\n",
    "\n",
    "# Measure time taken for Quick Sort\n",
    "start_time = time.time()\n",
    "quick_sort(quick_numbers, 0, len(quick_numbers) - 1)\n",
    "quick_time = time.time() - start_time\n",
    "\n",
    "# Plotting the results\n",
    "plt.bar(['Bubble Sort', 'Selection Sort', 'Quick Sort'], [bubble_time, selection_time, quick_time])\n",
    "plt.title('Time taken for sorting 1000 random integers')\n",
    "plt.xlabel('Sorting Algorithm')\n",
    "plt.ylabel('Time (seconds)')\n",
    "plt.show()\n"
   ]
  },
  {
   "cell_type": "markdown",
   "metadata": {
    "id": "841Lt3_dwwUI"
   },
   "source": [
    "2"
   ]
  },
  {
   "cell_type": "code",
   "execution_count": 3,
   "metadata": {
    "colab": {
     "base_uri": "https://localhost:8080/"
    },
    "id": "QvLToe8nwxLS",
    "outputId": "f7f8d8f8-5563-476a-eef6-a8216fc572f3"
   },
   "outputs": [
    {
     "name": "stdout",
     "output_type": "stream",
     "text": [
      "Enter the number of sorted lists: 4\n",
      "Enter space-separated elements for list 1: 10 20 30 40\n",
      "Enter space-separated elements for list 2: 15 25 35\n",
      "Enter space-separated elements for list 3: 27 29 37 48 93\n",
      "Enter space-separated elements for list 4: 32 33\n",
      "Sorted Lists:\n",
      "[10, 20, 30, 40]\n",
      "[15, 25, 35]\n",
      "[27, 29, 37, 48, 93]\n",
      "[32, 33]\n",
      "\n",
      "Sorted elements in all lists:\n",
      "10 15 20 25 27 29 30 32 33 35 37 40 48 93 "
     ]
    }
   ],
   "source": [
    "import heapq\n",
    "\n",
    "def print_sorted_lists(sorted_lists):\n",
    "    heap = []\n",
    "\n",
    "    # Initialize the heap with the first element from each list along with the index\n",
    "    for i, lst in enumerate(sorted_lists):\n",
    "        if lst:  # Check if the list is not empty\n",
    "            heapq.heappush(heap, (lst[0], i, 0))  # (element, list index, element index)\n",
    "\n",
    "    while heap:\n",
    "        val, list_idx, elem_idx = heapq.heappop(heap)\n",
    "        print(val, end=' ')\n",
    "\n",
    "        # Move to the next element in the same list if available\n",
    "        if elem_idx + 1 < len(sorted_lists[list_idx]):\n",
    "            next_val = sorted_lists[list_idx][elem_idx + 1]\n",
    "            heapq.heappush(heap, (next_val, list_idx, elem_idx + 1))\n",
    "\n",
    "# User interface\n",
    "def main():\n",
    "    # Take input for the number of lists\n",
    "    num_lists = int(input(\"Enter the number of sorted lists: \"))\n",
    "\n",
    "    # Take input for each sorted list\n",
    "    sorted_lists = []\n",
    "    for i in range(num_lists):\n",
    "        lst = list(map(int, input(f\"Enter space-separated elements for list {i+1}: \").split()))\n",
    "        sorted_lists.append(sorted(lst))  # Sort the list as it is entered\n",
    "\n",
    "    print(\"Sorted Lists:\")\n",
    "    for lst in sorted_lists:\n",
    "        print(lst)\n",
    "\n",
    "    print(\"\\nSorted elements in all lists:\")\n",
    "    print_sorted_lists(sorted_lists)\n",
    "\n",
    "if __name__ == \"__main__\":\n",
    "    main()\n"
   ]
  },
  {
   "cell_type": "markdown",
   "metadata": {
    "id": "GLASLrkOyNg2"
   },
   "source": [
    "3\n"
   ]
  },
  {
   "cell_type": "code",
   "execution_count": 4,
   "metadata": {
    "colab": {
     "base_uri": "https://localhost:8080/"
    },
    "id": "hwmtzzc4yOvC",
    "outputId": "a94fc33f-82c0-419b-abe3-ff3c0cdba8b9"
   },
   "outputs": [
    {
     "name": "stdout",
     "output_type": "stream",
     "text": [
      "Enter the array elements separated by spaces: 8 12 22 65 2 5 3 55 \n",
      "Enter the value of K: 2\n",
      "The 2 largest elements in the array are: [65, 55]\n"
     ]
    }
   ],
   "source": [
    "import heapq\n",
    "\n",
    "def find_k_largest_elements(arr, k):\n",
    "    heap = arr[:k]\n",
    "    heapq.heapify(heap)\n",
    "\n",
    "    for num in arr[k:]:\n",
    "        if num > heap[0]:\n",
    "            heapq.heappop(heap)\n",
    "            heapq.heappush(heap, num)\n",
    "\n",
    "    return sorted(heap, reverse=True)\n",
    "\n",
    "def main():\n",
    "    # user input\n",
    "    arr = list(map(int, input(\"Enter the array elements separated by spaces: \").split()))\n",
    "    k = int(input(\"Enter the value of K: \"))\n",
    "\n",
    "    # Find the K largest elements\n",
    "    result = find_k_largest_elements(arr, k)\n",
    "\n",
    "    # result\n",
    "    print(f\"The {k} largest elements in the array are: {result}\")\n",
    "\n",
    "if __name__ == \"__main__\":\n",
    "    main()\n"
   ]
  },
  {
   "cell_type": "markdown",
   "metadata": {
    "id": "KmbOilJzzBWR"
   },
   "source": [
    "4\n"
   ]
  },
  {
   "cell_type": "code",
   "execution_count": 13,
   "metadata": {
    "colab": {
     "base_uri": "https://localhost:8080/"
    },
    "id": "AbrTm2g9zCWh",
    "outputId": "09fc63a5-cc83-48db-bd40-7f5172626bf0"
   },
   "outputs": [
    {
     "name": "stdout",
     "output_type": "stream",
     "text": [
      "Enter activity as (start_time, finish_time) (or press Enter to stop): (1,4)\n",
      "Enter activity as (start_time, finish_time) (or press Enter to stop): (3,5)\n",
      "Enter activity as (start_time, finish_time) (or press Enter to stop): (0,6)\n",
      "Enter activity as (start_time, finish_time) (or press Enter to stop): (5,7)\n",
      "Enter activity as (start_time, finish_time) (or press Enter to stop): (3,8)\n",
      "Enter activity as (start_time, finish_time) (or press Enter to stop): (5,9)\n",
      "Enter activity as (start_time, finish_time) (or press Enter to stop): (6,10)\n",
      "Enter activity as (start_time, finish_time) (or press Enter to stop): (8,11)\n",
      "Enter activity as (start_time, finish_time) (or press Enter to stop): (8,12)\n",
      "Enter activity as (start_time, finish_time) (or press Enter to stop): (2,13)\n",
      "Enter activity as (start_time, finish_time) (or press Enter to stop): (12,14)\n",
      "Enter activity as (start_time, finish_time) (or press Enter to stop): \n",
      "Input: Following set of activities\n",
      "[(1, 4), (3, 5), (0, 6), (5, 7), (3, 8), (5, 9), (6, 10), (8, 11), (8, 12), (2, 13), (12, 14)]\n",
      "\n",
      "Output:\n",
      "[(1, 4), (5, 7), (8, 11), (12, 14)]\n"
     ]
    }
   ],
   "source": [
    "def max_activities(activities):\n",
    "    if not activities:\n",
    "        return []\n",
    "\n",
    "    # Sorting activities based on their finishing times\n",
    "    sorted_activities = sorted(activities, key=lambda x: x[1])\n",
    "\n",
    "    \n",
    "    max_activities_list = [sorted_activities[0]]\n",
    "    prev_activity_finish = sorted_activities[0][1]\n",
    "\n",
    "    # Iterating through sorted activities and selecting non-overlapping ones\n",
    "    for activity in sorted_activities[1:]:\n",
    "        start, finish = activity\n",
    "        if start >= prev_activity_finish:\n",
    "            max_activities_list.append(activity)\n",
    "            prev_activity_finish = finish\n",
    "\n",
    "    return max_activities_list\n",
    "\n",
    "# User input\n",
    "def main():\n",
    "    activities = []\n",
    "    while True:\n",
    "        activity_str = input(\"Enter activity as (start_time, finish_time) (or press Enter to stop): \")\n",
    "        if not activity_str:\n",
    "            break\n",
    "        activity = tuple(map(int, activity_str.strip(\"()\").split(',')))\n",
    "        activities.append(activity)\n",
    "\n",
    "    print(\"Input: Following set of activities\")\n",
    "    print(activities)\n",
    "\n",
    "    max_activities_list = max_activities(activities)\n",
    "    print(\"\\nOutput:\")\n",
    "    print(max_activities_list)\n",
    "\n",
    "if __name__ == \"__main__\":\n",
    "    main()"
   ]
  },
  {
   "cell_type": "markdown",
   "metadata": {
    "id": "yr1T1EMn2sFs"
   },
   "source": [
    "5\n"
   ]
  },
  {
   "cell_type": "code",
   "execution_count": 14,
   "metadata": {
    "colab": {
     "base_uri": "https://localhost:8080/"
    },
    "id": "haOq-Jnn2uga",
    "outputId": "09179402-8ced-471c-ea8c-4fba9e485bfc"
   },
   "outputs": [
    {
     "name": "stdout",
     "output_type": "stream",
     "text": [
      "Enter intervals as (start_time, end_time) separated by commas (or press Enter to stop): \n",
      "(1,4)\n",
      "(2,5)\n",
      "(7,8)\n",
      "(6,9)\n",
      "\n",
      "\n",
      "Input intervals:\n",
      "[(1, 4), (2, 5), (7, 8), (6, 9)]\n",
      "\n",
      "Non-overlapping intervals after merging:\n",
      "[(1, 5), (6, 9)]\n"
     ]
    }
   ],
   "source": [
    "def merge_intervals(intervals):\n",
    "    if not intervals:\n",
    "        return []\n",
    "\n",
    "    # Sort intervals based on start times\n",
    "    sorted_intervals = sorted(intervals, key=lambda x: x[0])\n",
    "\n",
    "    merged_intervals = []\n",
    "    prev_start, prev_end = sorted_intervals[0]\n",
    "\n",
    "    for start, end in sorted_intervals[1:]:\n",
    "        if start <= prev_end:  # Overlapping intervals\n",
    "            prev_end = max(prev_end, end)\n",
    "        else:\n",
    "            merged_intervals.append((prev_start, prev_end))\n",
    "            prev_start, prev_end = start, end\n",
    "\n",
    "    # Add the last interval\n",
    "    merged_intervals.append((prev_start, prev_end))\n",
    "\n",
    "    return merged_intervals\n",
    "\n",
    "# User interface\n",
    "def main():\n",
    "    intervals = []\n",
    "    print(\"Enter intervals as (start_time, end_time) separated by commas (or press Enter to stop): \")\n",
    "    while True:\n",
    "        interval_str = input()\n",
    "        if not interval_str:\n",
    "            break\n",
    "        interval = tuple(map(int, interval_str.strip(\"()\").split(',')))\n",
    "        intervals.append(interval)\n",
    "\n",
    "    print(\"\\nInput intervals:\")\n",
    "    print(intervals)\n",
    "\n",
    "    merged_intervals = merge_intervals(intervals)\n",
    "    print(\"\\nNon-overlapping intervals after merging:\")\n",
    "    print(merged_intervals)\n",
    "\n",
    "if __name__ == \"__main__\":\n",
    "    main()\n"
   ]
  }
 ],
 "metadata": {
  "colab": {
   "provenance": []
  },
  "kernelspec": {
   "display_name": "Python 3 (ipykernel)",
   "language": "python",
   "name": "python3"
  },
  "language_info": {
   "codemirror_mode": {
    "name": "ipython",
    "version": 3
   },
   "file_extension": ".py",
   "mimetype": "text/x-python",
   "name": "python",
   "nbconvert_exporter": "python",
   "pygments_lexer": "ipython3",
   "version": "3.11.5"
  }
 },
 "nbformat": 4,
 "nbformat_minor": 1
}
